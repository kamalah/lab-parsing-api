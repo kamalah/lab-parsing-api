{
 "cells": [
  {
   "cell_type": "markdown",
   "metadata": {},
   "source": [
    "# Challenge: Promotions\n",
    "\n",
    "In this challenge, you'll develop codes to parse and analyze data returned from another API on Zalando such as [Promos homme (Men's Promotions)\n",
    "](https://www.zalando.fr/promo-homme/) or [Promos femme (Women's Promotions)](https://www.zalando.fr/promo-femme/). The workflow is almost the same as in the guided lesson but you'll work with different data."
   ]
  },
  {
   "cell_type": "markdown",
   "metadata": {},
   "source": [
    "## Obtaining the link\n",
    "\n",
    "Wrote your codes in the cell below to obtain the data from the API endpoint you choose. A recap of the workflow:\n",
    "\n",
    "1. Examine the webpages and choose one that you want to work with.\n",
    "\n",
    "1. Use Google Chrome's DevTools to inspect the XHR network requests. Find out the API endpoint that serves data to the webpage.\n",
    "\n",
    "1. Test the API endpoint in the browser to verify its data.\n",
    "\n",
    "1. Change the page number offset of the API URL to test if it's working."
   ]
  },
  {
   "cell_type": "code",
   "execution_count": 3,
   "metadata": {},
   "outputs": [],
   "source": [
    "# your code here\n",
    "import json\n",
    "import requests\n",
    "import pandas as pd\n",
    "from pandas.io.json import json_normalize\n",
    "import urllib\n"
   ]
  },
  {
   "cell_type": "markdown",
   "metadata": {},
   "source": [
    "## Reading the data\n",
    "\n",
    "In the next cell, use Python to obtain data from the API endpoint you chose in the previous step. Workflow:\n",
    "\n",
    "1. Import libraries.\n",
    "\n",
    "1. Define the initial API endpoint URL.\n",
    "\n",
    "1. Make request to obtain data of the 1st page. Flatten the data and store it in an empty object variable.\n",
    "\n",
    "1. Find out the total page count in the 1st page data.\n",
    "\n",
    "1. Use a FOR loop to make requests for the additional pages from 2 to page count. Append the data of each additional page to the flatterned data object.\n",
    "\n",
    "1. Print and review the data you obtained."
   ]
  },
  {
   "cell_type": "code",
   "execution_count": 6,
   "metadata": {},
   "outputs": [
    {
     "name": "stdout",
     "output_type": "stream",
     "text": [
      "Total Number of pages: 892\n",
      "(8400, 21)\n",
      "                                                            name  \\\n",
      "sku                                                                \n",
      "TS122H00S-Q11                    BLIGHT - Veste mi-saison - noir   \n",
      "LA212O03J-A11                  GRADUATE - Baskets basses - white   \n",
      "AD115O07M-A11  CONTINENTAL 80 SKATEBOARD SHOES - Baskets bass...   \n",
      "AD115O0J1-A11  STAN SMITH - Baskets basses - footwear white/l...   \n",
      "LA222O04B-K12               T-shirt imprimé - marine/guepe/blanc   \n",
      "JA222Q0QM-Q11               JJEEMIL ROLL NECK - Pullover - black   \n",
      "C1852D027-Q11                            BELT - Ceinture - black   \n",
      "TS122T009-K11            TERRY - Veste sans manches - total navy   \n",
      "BRH22Q005-Q11                            HUME - Pullover - black   \n",
      "LA212O06W-A11           LEROND - Baskets basses - white/navy/red   \n",
      "\n",
      "                                                           sizes  \\\n",
      "sku                                                                \n",
      "TS122H00S-Q11                                 [S, M, L, XL, 3XL]   \n",
      "LA212O03J-A11  [40, 40.5, 41, 42, 42.5, 43, 44, 44.5, 45, 46,...   \n",
      "AD115O07M-A11  [36, 38, 40, 42, 44, 46, 48, 35 1/3, 36 2/3, 3...   \n",
      "AD115O0J1-A11  [36, 38, 40, 42, 44, 46, 48, 36 2/3, 37 1/3, 3...   \n",
      "LA222O04B-K12                   [XS, S, M, L, XL, XXL, 3XL, 4XL]   \n",
      "JA222Q0QM-Q11                             [XS, S, M, L, XL, XXL]   \n",
      "C1852D027-Q11                                  [85, 90, 95, 100]   \n",
      "TS122T009-K11                                     [S, M, L, 3XL]   \n",
      "BRH22Q005-Q11                                      [S, M, L, XL]   \n",
      "LA212O06W-A11  [40, 40.5, 41, 42, 42.5, 43, 44, 44.5, 45, 46,...   \n",
      "\n",
      "                                                         url_key  \\\n",
      "sku                                                                \n",
      "TS122H00S-Q11        teddy-smith-veste-legere-noir-ts122h00s-q11   \n",
      "LA212O03J-A11      lacoste-graduate-baskets-basses-la212o03j-a11   \n",
      "AD115O07M-A11  adidas-originals-continental-baskets-basses-ad...   \n",
      "AD115O0J1-A11  adidas-originals-stan-smith-baskets-basses-ad1...   \n",
      "LA222O04B-K12  lacoste-t-shirt-imprime-marineguepeblanc-la222...   \n",
      "JA222Q0QM-Q11  jack-and-jones-jjeemil-roll-neck-pullover-ja22...   \n",
      "C1852D027-Q11  calvin-klein-jeans-belt-ceinture-black-c1852d0...   \n",
      "TS122T009-K11  teddy-smith-terry-veste-sans-manches-total-nav...   \n",
      "BRH22Q005-Q11            brave-soul-pullover-black-brh22q005-q11   \n",
      "LA212O06W-A11  lacoste-lerond-baskets-basses-whitenavyred-la2...   \n",
      "\n",
      "                                                           media  \\\n",
      "sku                                                                \n",
      "TS122H00S-Q11  [{'path': 'spp-media-p1/82e2ce5286e435e9bb78fe...   \n",
      "LA212O03J-A11  [{'path': 'spp-media-p1/f1e1bb30b1a73a6f96d80a...   \n",
      "AD115O07M-A11  [{'path': 'spp-media-p1/936f4e1188b63dd2b99bb0...   \n",
      "AD115O0J1-A11  [{'path': 'spp-media-p1/526dc56766f53368b56260...   \n",
      "LA222O04B-K12  [{'path': 'spp-media-p1/15ad9270132737eb84ce21...   \n",
      "JA222Q0QM-Q11  [{'path': 'spp-media-p1/709e3c7650603b16b82e77...   \n",
      "C1852D027-Q11  [{'path': 'spp-media-p1/928ff0678d673f8585a7ad...   \n",
      "TS122T009-K11  [{'path': 'spp-media-p1/b4012a14c8f53feb812a15...   \n",
      "BRH22Q005-Q11  [{'path': 'spp-media-p1/438e3bfa6a043130805e35...   \n",
      "LA212O06W-A11  [{'path': 'spp-media-p1/615139e109fc3767a967e9...   \n",
      "\n",
      "                       brand_name  is_premium family_articles  \\\n",
      "sku                                                             \n",
      "TS122H00S-Q11         Teddy Smith       False              []   \n",
      "LA212O03J-A11             Lacoste       False              []   \n",
      "AD115O07M-A11    adidas Originals       False              []   \n",
      "AD115O0J1-A11    adidas Originals       False              []   \n",
      "LA222O04B-K12             Lacoste       False              []   \n",
      "JA222Q0QM-Q11        Jack & Jones       False              []   \n",
      "C1852D027-Q11  Calvin Klein Jeans       False              []   \n",
      "TS122T009-K11         Teddy Smith       False              []   \n",
      "BRH22Q005-Q11          Brave Soul       False              []   \n",
      "LA212O06W-A11             Lacoste       False              []   \n",
      "\n",
      "                                                           flags  \\\n",
      "sku                                                                \n",
      "TS122H00S-Q11  [{'key': 'discountRate', 'value': '-30%', 'tra...   \n",
      "LA212O03J-A11  [{'key': 'discountRate', 'value': '-50%', 'tra...   \n",
      "AD115O07M-A11  [{'key': 'discountRate', 'value': 'Jusqu’à -40...   \n",
      "AD115O0J1-A11  [{'key': 'discountRate', 'value': '-35%', 'tra...   \n",
      "LA222O04B-K12  [{'key': 'discountRate', 'value': 'Jusqu’à -50...   \n",
      "JA222Q0QM-Q11  [{'key': 'discountRate', 'value': '-30%', 'tra...   \n",
      "C1852D027-Q11  [{'key': 'discountRate', 'value': '-30%', 'tra...   \n",
      "TS122T009-K11  [{'key': 'discountRate', 'value': '-30%', 'tra...   \n",
      "BRH22Q005-Q11  [{'key': 'discountRate', 'value': '-50%', 'tra...   \n",
      "LA212O06W-A11  [{'key': 'discountRate', 'value': '-45%', 'tra...   \n",
      "\n",
      "              product_group delivery_promises  ... price.promotional  \\\n",
      "sku                                            ...                     \n",
      "TS122H00S-Q11      clothing                []  ...           41,95 €   \n",
      "LA212O03J-A11          shoe                []  ...           47,45 €   \n",
      "AD115O07M-A11          shoe                []  ...           53,95 €   \n",
      "AD115O0J1-A11          shoe                []  ...           58,45 €   \n",
      "LA222O04B-K12      clothing                []  ...           29,95 €   \n",
      "JA222Q0QM-Q11      clothing                []  ...           27,99 €   \n",
      "C1852D027-Q11   accessoires                []  ...           27,95 €   \n",
      "TS122T009-K11      clothing                []  ...           34,95 €   \n",
      "BRH22Q005-Q11      clothing                []  ...           11,45 €   \n",
      "LA212O06W-A11          shoe                []  ...           51,95 €   \n",
      "\n",
      "              price.has_different_prices  price.has_different_original_prices  \\\n",
      "sku                                                                             \n",
      "TS122H00S-Q11                      False                                False   \n",
      "LA212O03J-A11                      False                                False   \n",
      "AD115O07M-A11                       True                                False   \n",
      "AD115O0J1-A11                      False                                False   \n",
      "LA222O04B-K12                       True                                False   \n",
      "JA222Q0QM-Q11                      False                                False   \n",
      "C1852D027-Q11                      False                                False   \n",
      "TS122T009-K11                      False                                False   \n",
      "BRH22Q005-Q11                      False                                False   \n",
      "LA212O06W-A11                      False                                False   \n",
      "\n",
      "               price.has_different_promotional_prices  \\\n",
      "sku                                                     \n",
      "TS122H00S-Q11                                   False   \n",
      "LA212O03J-A11                                   False   \n",
      "AD115O07M-A11                                    True   \n",
      "AD115O0J1-A11                                   False   \n",
      "LA222O04B-K12                                    True   \n",
      "JA222Q0QM-Q11                                   False   \n",
      "C1852D027-Q11                                   False   \n",
      "TS122T009-K11                                   False   \n",
      "BRH22Q005-Q11                                   False   \n",
      "LA212O06W-A11                                   False   \n",
      "\n",
      "               price.has_discount_on_selected_sizes_only  \\\n",
      "sku                                                        \n",
      "TS122H00S-Q11                                      False   \n",
      "LA212O03J-A11                                      False   \n",
      "AD115O07M-A11                                      False   \n",
      "AD115O0J1-A11                                      False   \n",
      "LA222O04B-K12                                      False   \n",
      "JA222Q0QM-Q11                                      False   \n",
      "C1852D027-Q11                                      False   \n",
      "TS122T009-K11                                      False   \n",
      "BRH22Q005-Q11                                      False   \n",
      "LA212O06W-A11                                      False   \n",
      "\n",
      "                                                         outfits amount  \\\n",
      "sku                                                                       \n",
      "TS122H00S-Q11                                                NaN    NaN   \n",
      "LA212O03J-A11                                                NaN    NaN   \n",
      "AD115O07M-A11                                                NaN    NaN   \n",
      "AD115O0J1-A11                                                NaN    NaN   \n",
      "LA222O04B-K12                                                NaN    NaN   \n",
      "JA222Q0QM-Q11  [{'id': 'VVvje8jFQaS', 'url_key': '/outfits/VV...    NaN   \n",
      "C1852D027-Q11                                                NaN    NaN   \n",
      "TS122T009-K11                                                NaN    NaN   \n",
      "BRH22Q005-Q11                                                NaN    NaN   \n",
      "LA212O06W-A11                                                NaN    NaN   \n",
      "\n",
      "              price.base_price condition condition_key  \n",
      "sku                                                     \n",
      "TS122H00S-Q11              NaN       NaN           NaN  \n",
      "LA212O03J-A11              NaN       NaN           NaN  \n",
      "AD115O07M-A11              NaN       NaN           NaN  \n",
      "AD115O0J1-A11              NaN       NaN           NaN  \n",
      "LA222O04B-K12              NaN       NaN           NaN  \n",
      "JA222Q0QM-Q11              NaN       NaN           NaN  \n",
      "C1852D027-Q11              NaN       NaN           NaN  \n",
      "TS122T009-K11              NaN       NaN           NaN  \n",
      "BRH22Q005-Q11              NaN       NaN           NaN  \n",
      "LA212O06W-A11              NaN       NaN           NaN  \n",
      "\n",
      "[10 rows x 21 columns]\n"
     ]
    }
   ],
   "source": [
    "# your code here\n",
    "url='https://www.zalando.fr/api/catalog/articles?categories=promo-homme&limit=84&offset=84&sort=sale'\n",
    "json_url = urllib.request.urlopen(url)\n",
    "results = json.loads(json_url.read())\n",
    "flattened_data = pd.json_normalize(results)\n",
    "flattened_data1 = pd.json_normalize(flattened_data.articles[0])\n",
    "flattened_data1\n",
    "\n",
    "total_pages=results['pagination']['page_count']\n",
    "print(f'Total Number of pages: {total_pages}')\n",
    "total_pages = 100 #892*84 seems like too much data\n",
    "\n",
    "# Your code\n",
    "df=pd.DataFrame()\n",
    "for i in range(total_pages):\n",
    "    k=84*i\n",
    "    url=f'https://www.zalando.fr/api/catalog/articles?categories=promo-homme&limit=84&offset={k}&sort=sale'\n",
    "    json_url = urllib.request.urlopen(url)\n",
    "    results = json.loads(json_url.read())\n",
    "    flattened_data = pd.json_normalize(results)\n",
    "    flattened_data1 = pd.json_normalize(flattened_data.articles[0])\n",
    "    flattened_data1=flattened_data1.set_index('sku')\n",
    "    df = df.append(flattened_data1)\n",
    "\n",
    "print(df.shape)\n"
   ]
  },
  {
   "cell_type": "code",
   "execution_count": 8,
   "metadata": {},
   "outputs": [
    {
     "data": {
      "text/plain": [
       "Index(['name', 'sizes', 'url_key', 'media', 'brand_name', 'is_premium',\n",
       "       'family_articles', 'flags', 'product_group', 'delivery_promises',\n",
       "       'price.original', 'price.promotional', 'price.has_different_prices',\n",
       "       'price.has_different_original_prices',\n",
       "       'price.has_different_promotional_prices',\n",
       "       'price.has_discount_on_selected_sizes_only', 'outfits', 'amount',\n",
       "       'price.base_price', 'condition', 'condition_key'],\n",
       "      dtype='object')"
      ]
     },
     "execution_count": 8,
     "metadata": {},
     "output_type": "execute_result"
    }
   ],
   "source": [
    "# your code here\n",
    "df.columns"
   ]
  },
  {
   "cell_type": "markdown",
   "metadata": {},
   "source": [
    "## Bonus\n",
    "\n",
    "Extract the following information from the data:\n",
    "\n",
    "* The trending brand.\n",
    "\n",
    "* The product(s) with the highest discount.\n",
    "\n",
    "* The sum of discounts of all goods (sum_discounted_prices divided by sum_original_prices)."
   ]
  },
  {
   "cell_type": "code",
   "execution_count": 9,
   "metadata": {},
   "outputs": [
    {
     "data": {
      "text/plain": [
       "'Jack & Jones'"
      ]
     },
     "execution_count": 9,
     "metadata": {},
     "output_type": "execute_result"
    }
   ],
   "source": [
    "df.brand_name.value_counts().index[0] #trending brand (most items of that brand on website)"
   ]
  },
  {
   "cell_type": "code",
   "execution_count": 11,
   "metadata": {},
   "outputs": [],
   "source": [
    "#Our data is still text. Convert prices into numbers:\n",
    "df['price.original']=df['price.original'].str.extract('(\\d*,\\d*)')\n",
    "df['price.promotional']=df['price.promotional'].str.extract('(\\d*,\\d*)')\n",
    "\n",
    "df['price.original'] = [x.replace(',', '.') for x in df['price.original']]\n",
    "df['price.promotional'] = [x.replace(',', '.') for x in df['price.promotional']]"
   ]
  },
  {
   "cell_type": "code",
   "execution_count": 13,
   "metadata": {},
   "outputs": [
    {
     "data": {
      "text/plain": [
       "'Tommy Hilfiger'"
      ]
     },
     "execution_count": 13,
     "metadata": {},
     "output_type": "execute_result"
    }
   ],
   "source": [
    "df['discount_amount']=df['price.original'].astype(float)-df['price.promotional'].astype(float)\n",
    "df1=df.copy()\n",
    "total_disc=df1.groupby(['brand_name']).sum().discount_amount\n",
    "total_disc.sort_values(ascending=False).index[0] #Item with largest discount"
   ]
  },
  {
   "cell_type": "code",
   "execution_count": 62,
   "metadata": {},
   "outputs": [
    {
     "data": {
      "text/plain": [
       "brand_name\n",
       "'47                  79.80\n",
       "11 DEGREES          124.90\n",
       "274                 106.85\n",
       "A.S.98              229.95\n",
       "ALDO               2062.50\n",
       "                    ...   \n",
       "camano               30.90\n",
       "edc by Esprit       129.97\n",
       "le coq sportif      198.00\n",
       "s.Oliver            639.71\n",
       "sergio tacchini     179.70\n",
       "Name: price.original, Length: 339, dtype: float64"
      ]
     },
     "execution_count": 62,
     "metadata": {},
     "output_type": "execute_result"
    }
   ],
   "source": [
    "df2 = df.copy()\n",
    "df2['price.original']= df['price.original'].astype(float)\n",
    "total_original_price = df2.groupby(['brand_name'])['price.original'].sum()\n",
    "total_original_price\n",
    "\n"
   ]
  },
  {
   "cell_type": "code",
   "execution_count": null,
   "metadata": {},
   "outputs": [],
   "source": []
  },
  {
   "cell_type": "code",
   "execution_count": null,
   "metadata": {},
   "outputs": [],
   "source": []
  }
 ],
 "metadata": {
  "kernelspec": {
   "display_name": "Python 3",
   "language": "python",
   "name": "python3"
  },
  "language_info": {
   "codemirror_mode": {
    "name": "ipython",
    "version": 3
   },
   "file_extension": ".py",
   "mimetype": "text/x-python",
   "name": "python",
   "nbconvert_exporter": "python",
   "pygments_lexer": "ipython3",
   "version": "3.8.3"
  }
 },
 "nbformat": 4,
 "nbformat_minor": 2
}
